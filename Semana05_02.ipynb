{
  "nbformat": 4,
  "nbformat_minor": 0,
  "metadata": {
    "kernelspec": {
      "display_name": "Python 3",
      "language": "python",
      "name": "python3"
    },
    "language_info": {
      "codemirror_mode": {
        "name": "ipython",
        "version": 3
      },
      "file_extension": ".py",
      "mimetype": "text/x-python",
      "name": "python",
      "nbconvert_exporter": "python",
      "pygments_lexer": "ipython3",
      "version": "3.7.6"
    },
    "colab": {
      "provenance": []
    }
  },
  "cells": [
    {
      "cell_type": "markdown",
      "metadata": {
        "id": "9cS1r3WnTJ0L"
      },
      "source": [
        "# SEMANA 05 - Lunes 29 / 04 / 2024\n",
        "# Mg. Flor Elizabeth Cerdán León"
      ]
    },
    {
      "cell_type": "markdown",
      "metadata": {
        "id": "jKL9R9wyTJ0O"
      },
      "source": [
        "Temas\n",
        "1. Colecciones de datos\n",
        "2. Estructuras Decisivas y Estructuras Repetitivas\n",
        "3. Funciones\n",
        "4. Clases y objetos"
      ]
    },
    {
      "cell_type": "markdown",
      "metadata": {
        "id": "U0N4triLTJ0P"
      },
      "source": [
        "2. Bucles y condiciones"
      ]
    },
    {
      "cell_type": "code",
      "metadata": {
        "id": "GdqWU1DqTJ0P"
      },
      "source": [
        "# 2.1 Estructuras Decisivas (if, elif, else)"
      ],
      "execution_count": null,
      "outputs": []
    },
    {
      "cell_type": "markdown",
      "source": [
        "      USANDO LA CONDICIONAL if"
      ],
      "metadata": {
        "id": "QSpqLo5EiCjP"
      }
    },
    {
      "cell_type": "code",
      "metadata": {
        "id": "HFutm-2nTJ0Q"
      },
      "source": [
        "# EJERCICIO_01:\n",
        "# Dado el precio de 3 productos ingresados por el teclado, aplicar un descuento del 10% si la\n",
        "# venta es mayor o igual a 1000."
      ],
      "execution_count": 1,
      "outputs": []
    },
    {
      "cell_type": "code",
      "metadata": {
        "scrolled": false,
        "id": "1-8b6zUDTJ0R",
        "outputId": "1702ede2-8e96-4fc3-9473-c017d9a069f2",
        "colab": {
          "base_uri": "https://localhost:8080/"
        }
      },
      "source": [
        "# Solución\n",
        "\n",
        "# Ingresamos el precio del 1er producto\n",
        "P1 = float(input(\"Ingrese el precio del 1er producto: \"))\n",
        "\n",
        "# Ingresamos el precio del 2er producto\n",
        "P2 = float(input(\"Ingrese el precio del 2do producto: \"))\n",
        "\n",
        "# Ingresamos el precio del 3er producto\n",
        "P3 = float(input(\"Ingrese el precio del 3er producto: \"))\n",
        "suma = P1 + P2 + P3\n",
        "\n",
        "# Indicamos la condicional\n",
        "if suma>=1000:\n",
        "\n",
        "    suma *= 0.9\n",
        "#Indicamos la suma total a pagar\n",
        "print(\"\\nLa suma total a pagar es: \" , suma)\n"
      ],
      "execution_count": 2,
      "outputs": [
        {
          "output_type": "stream",
          "name": "stdout",
          "text": [
            "Ingrese el precio del 1er producto: 450\n",
            "Ingrese el precio del 2do producto: 350\n",
            "Ingrese el precio del 3er producto: 205\n",
            "\n",
            "La suma total a pagar es:  904.5\n"
          ]
        }
      ]
    },
    {
      "cell_type": "markdown",
      "source": [
        "    USANDO LA CONDICIONAL if - else"
      ],
      "metadata": {
        "id": "mB5YEkDYiHuo"
      }
    },
    {
      "cell_type": "code",
      "metadata": {
        "id": "SIf1iCpYTJ0S"
      },
      "source": [
        "# Problema 01 (Recordando)\n",
        "# Dado una lista de [BERNAL, BERNAOLA, CABALLERO, CALDERON, PAYE, CARRASCO, CENTENO, CHALQUE, CHAVEZ, CONDORI, CRUZ, PALACIOS, PALOMINO, QUISPE, RAMOS, RODAS, SILVERA, TALAVERA, TINEO, VICTORIO, VILCA, ZEA]\n",
        "# Diseñar un código que muestre si el apellido de un estudiante (Ingresado por teclado) forma parte de la lista"
      ],
      "execution_count": 5,
      "outputs": []
    },
    {
      "cell_type": "code",
      "metadata": {
        "id": "qpj39Xs0TJ0T",
        "outputId": "c4f52cee-bcb8-483e-b08e-ea1d26200990",
        "colab": {
          "base_uri": "https://localhost:8080/"
        }
      },
      "source": [
        "# Solución:\n",
        "apellidos = [\"FIGUEROA\", \"BERNAOLA\", \"CABALLERO\", \"CALDERON\", \"CARRASCO\", \"CENTENO\", \"CHALQUE\", \"CHAVEZ\",\n",
        "       \"CONDORI\", \"CRUZ\", \"PAYE\",\"PALACIOS\", \"PALOMINO\", \"QUISPE\", \"RAMOS\", \"RODAS\", \"SILVERA\",\n",
        "       \"TALAVERA\", \"TINEO\", \"VICTORIO\", \"VILCA\", \"ZEA\"]\n",
        "\n",
        "dato = input(\"Ingrese el apellido para verificar si se encuentra en la lista: \")\n",
        "\n",
        "# Como los datos de la lista están en mayúscula, utilizo upper()\n",
        "if dato.upper() in apellidos:\n",
        "    print(\"Si está en la lista de la Universidad\")\n",
        "else:\n",
        "    print(f\"El apellido {dato} No está en la lista creada\")"
      ],
      "execution_count": 9,
      "outputs": [
        {
          "output_type": "stream",
          "name": "stdout",
          "text": [
            "Ingrese el apellido para verificar si se encuentra en la lista: PAYE\n",
            "Si está en la lista de la Universidad\n"
          ]
        }
      ]
    },
    {
      "cell_type": "code",
      "metadata": {
        "id": "P3hoLLBhTJ0U"
      },
      "source": [
        "# EJERCICIO_02\n",
        "# Dado el importe total de ventas realizadas por un trabajador (ingresado por teclado)\n",
        "# categorizar que tipo de empleado es, considerando la siguiente tabla:\n",
        "\n",
        "# Categoria: A -> [0, 1000]\n",
        "# Categoria: B -> <1000, 2000]\n",
        "# Categoria: C -> <2000, 5000]\n",
        "# Categoría: D -> <5000, Mas]\n",
        "\n",
        "# Tiempo asignado: 12 minutos"
      ],
      "execution_count": null,
      "outputs": []
    },
    {
      "cell_type": "code",
      "source": [
        "# Indicamos el ingreso por teclado\n",
        "categorias = float(input(\"Ventas realizadas: \"))\n",
        "\n",
        "if categorias < 0:\n",
        "  print(\"El dato ingresado es ERRONEO\")\n",
        "else:\n",
        "  if categorias<=1000:\n",
        "    print(\"El trabajador pertenece a la CATEGORIA A\")\n",
        "  else:\n",
        "      if categorias<=2000:\n",
        "        print(\"El trabajador pertenece a la CATEGORIA B\")\n",
        "      else:\n",
        "        if categorias<=5000:\n",
        "           print(\"El trabajador pertenece a la CATEGORIA C\")\n",
        "        else:\n",
        "           print(\"El trabajador pertenece a la CATEGORIA D\")\n",
        "\n",
        "\n"
      ],
      "metadata": {
        "colab": {
          "base_uri": "https://localhost:8080/"
        },
        "id": "QIXKMax-l-oG",
        "outputId": "9503c792-acf3-4fe0-d0e2-a24e1df415c0"
      },
      "execution_count": 24,
      "outputs": [
        {
          "output_type": "stream",
          "name": "stdout",
          "text": [
            "Ventas realizadas: 45\n",
            "El trabajador pertenece a la CATEGORIA A\n"
          ]
        }
      ]
    },
    {
      "cell_type": "markdown",
      "source": [
        "USANDO LA CONDICIONAL elif"
      ],
      "metadata": {
        "id": "0Bj4zbJSpp1D"
      }
    },
    {
      "cell_type": "code",
      "metadata": {
        "id": "fGJ1GhPBTJ0V"
      },
      "source": [
        "# EJERCICIO_03\n",
        "\n",
        "# Solucionar el problema anterior utilizando elif\n",
        "\n",
        "# Dado el importe total de ventas realizadas por un trabajador (ingresado por teclado,\n",
        "# categorizar que tipo de empleado es, considerando la siguiente tabla:\n",
        "\n",
        "# Categoria: A -> [0, 1000]\n",
        "# Categoria: B -> <1000, 2000]\n",
        "# Categoria: C -> <2000, 5000]\n",
        "# Categoría: D -> <5000, Mas]\n",
        "\n",
        "# Tiempo asignado: 12 minutos"
      ],
      "execution_count": 25,
      "outputs": []
    },
    {
      "cell_type": "code",
      "metadata": {
        "id": "z_HPUYoSTJ0V",
        "outputId": "30014a9a-2897-4982-a5b8-06ba86c5a096",
        "colab": {
          "base_uri": "https://localhost:8080/"
        }
      },
      "source": [
        "# Solución\n",
        "\n",
        "categorias = float(input(\"Importe de ventas realizadas: \"))\n",
        "if categorias < 0:\n",
        "    print(\"Datos erroneos\")\n",
        "elif categorias<=1000:\n",
        "    print(\"Categoria A\")\n",
        "elif categorias <=2000:\n",
        "    print(\"Categoria B\")\n",
        "elif categorias <= 5000:\n",
        "    print(\"Categoria C\")\n",
        "else:\n",
        "    print(\"Categoria D\")"
      ],
      "execution_count": 26,
      "outputs": [
        {
          "output_type": "stream",
          "name": "stdout",
          "text": [
            "Importe de ventas realizadas: 5000\n",
            "Categoria C\n"
          ]
        }
      ]
    },
    {
      "cell_type": "markdown",
      "source": [
        "    ESTRUCTURAS REPETITIVAS for"
      ],
      "metadata": {
        "id": "5nDx5Lucpzkg"
      }
    },
    {
      "cell_type": "code",
      "metadata": {
        "id": "UqZwsCUuTJ0W"
      },
      "source": [
        "# for"
      ],
      "execution_count": null,
      "outputs": []
    },
    {
      "cell_type": "code",
      "metadata": {
        "id": "s7AvG7QXTJ0W"
      },
      "source": [
        "# Problema 01:\n",
        "# Mostrar los elementos de una lista utilizando for"
      ],
      "execution_count": 27,
      "outputs": []
    },
    {
      "cell_type": "code",
      "source": [
        "# Creamos una lista\n",
        "colores = [\"azul\",\"celeste\",\"plomo\"]\n",
        "\n",
        "# Imprimos la lista meidante el comando 'for'\n",
        "\n",
        "print(\"La lista creada es: \")\n",
        "\n",
        "for color in colores:     # Siempre en las condicionales debemos dejar la sangría\n",
        "  print(color)            # Imprimimos"
      ],
      "metadata": {
        "colab": {
          "base_uri": "https://localhost:8080/"
        },
        "id": "8SNY4ypRq0-T",
        "outputId": "abddcf53-aeb0-474b-b11c-2c4088a7515d"
      },
      "execution_count": 28,
      "outputs": [
        {
          "output_type": "stream",
          "name": "stdout",
          "text": [
            "La lista creada es: \n",
            "azul\n",
            "celeste\n",
            "plomo\n"
          ]
        }
      ]
    },
    {
      "cell_type": "code",
      "metadata": {
        "id": "SsQpvAEyTJ0X"
      },
      "source": [
        "# Problema 02:\n",
        "# Dado una cadena ingresado por teclado, mostrar cada caracter de la cadena, utilizando la estructura for"
      ],
      "execution_count": 29,
      "outputs": []
    },
    {
      "cell_type": "code",
      "metadata": {
        "scrolled": true,
        "id": "vWgtKtEdTJ0X",
        "outputId": "54922908-7270-4213-b003-0eb221270be3",
        "colab": {
          "base_uri": "https://localhost:8080/"
        }
      },
      "source": [
        "# Solución\n",
        "cadena = input(\"Ingrese la cadena a mostrar:\")\n",
        "\n",
        "\n",
        "for caracter in cadena:      # Siempre en las condicionales debemos dejar la sangría\n",
        "  print(caracter)            # Imprimimos"
      ],
      "execution_count": 30,
      "outputs": [
        {
          "output_type": "stream",
          "name": "stdout",
          "text": [
            "Ingrese la cadena a mostrar:Jesus Paye\n",
            "J\n",
            "e\n",
            "s\n",
            "u\n",
            "s\n",
            " \n",
            "P\n",
            "a\n",
            "y\n",
            "e\n"
          ]
        }
      ]
    },
    {
      "cell_type": "markdown",
      "source": [
        "    COMANDO 'range'"
      ],
      "metadata": {
        "id": "2FjS4AKftBmr"
      }
    },
    {
      "cell_type": "code",
      "metadata": {
        "id": "e8oMv_8PTJ0X",
        "outputId": "2ae1de2c-99a0-4ed2-9e96-b3a05cfc2d48",
        "colab": {
          "base_uri": "https://localhost:8080/"
        }
      },
      "source": [
        "# Para generar rangos de números utilizamos range()\n",
        "range(5)\n",
        "# [0, 5>"
      ],
      "execution_count": 31,
      "outputs": [
        {
          "output_type": "execute_result",
          "data": {
            "text/plain": [
              "range(0, 5)"
            ]
          },
          "metadata": {},
          "execution_count": 31
        }
      ]
    },
    {
      "cell_type": "code",
      "metadata": {
        "id": "2bwWvxYHTJ0X",
        "outputId": "b85051a9-e3bd-4c70-e51a-c25ae04258f2",
        "colab": {
          "base_uri": "https://localhost:8080/"
        }
      },
      "source": [
        "# Problema 01\n",
        "\n",
        "# Imprimir los números de 0 a 10, utilizando for\n",
        "\n",
        "for imprimir in range(11): # Siempre nos va a restar -1 por eso colocamos el 11\n",
        "    print(imprimir)"
      ],
      "execution_count": 33,
      "outputs": [
        {
          "output_type": "stream",
          "name": "stdout",
          "text": [
            "0\n",
            "1\n",
            "2\n",
            "3\n",
            "4\n",
            "5\n",
            "6\n",
            "7\n",
            "8\n",
            "9\n",
            "10\n"
          ]
        }
      ]
    },
    {
      "cell_type": "code",
      "metadata": {
        "id": "IW325KSaTJ0Y",
        "outputId": "b1843507-178d-4971-8160-5708d80c1c9c",
        "colab": {
          "base_uri": "https://localhost:8080/"
        }
      },
      "source": [
        "# Problema 03\n",
        "# Imprimir los números de 15 a 36, utilizando for\n",
        "for numero in range(15,37):\n",
        "    print (numero)"
      ],
      "execution_count": 49,
      "outputs": [
        {
          "output_type": "stream",
          "name": "stdout",
          "text": [
            "15\n",
            "16\n",
            "17\n",
            "18\n",
            "19\n",
            "20\n",
            "21\n",
            "22\n",
            "23\n",
            "24\n",
            "25\n",
            "26\n",
            "27\n",
            "28\n",
            "29\n",
            "30\n",
            "31\n",
            "32\n",
            "33\n",
            "34\n",
            "35\n",
            "36\n"
          ]
        }
      ]
    },
    {
      "cell_type": "code",
      "metadata": {
        "id": "NOOhPpCrTJ0Y",
        "outputId": "359f1ba8-8658-4307-a366-bf57aa047493",
        "colab": {
          "base_uri": "https://localhost:8080/"
        }
      },
      "source": [
        "# Problema 02\n",
        "# Imprimir los números de 9 a 27, utilizando for\n",
        "\n",
        "print(\"Los números a mostrar son:\")\n",
        "for numero in range(9,28,3):\n",
        "    print (numero)"
      ],
      "execution_count": 53,
      "outputs": [
        {
          "output_type": "stream",
          "name": "stdout",
          "text": [
            "Los números a mostrar son:\n",
            "9\n",
            "12\n",
            "15\n",
            "18\n",
            "21\n",
            "24\n",
            "27\n"
          ]
        }
      ]
    },
    {
      "cell_type": "code",
      "metadata": {
        "id": "X8KMK47oTJ0Z"
      },
      "source": [
        "# Tambien funcionan los bucles anidados:"
      ],
      "execution_count": null,
      "outputs": []
    },
    {
      "cell_type": "code",
      "metadata": {
        "id": "lngU9snmTJ0Z"
      },
      "source": [
        "# Problema 03\n",
        "# Dado una lista de números, utilizando el algoritmo de burbuja ordenarlos de menor a mayor\n",
        "# Tiempo asignado: 12 minutos\n",
        "\n",
        "# Codigo en java\n",
        "# package ordenamiento;\n",
        "# public class burbuja {\n",
        "#    public static void main(String[] args) {\n",
        "#        int temp;\n",
        "#        int lista[]={12,5,1,4,10,0};\n",
        "#        for(int i=0;i<lista.length-1;i++){\n",
        "#            for(int j=i+1; j<lista.length; j++){\n",
        "#                if(lista[i]>lista[j]){\n",
        "#                    temp = lista[i];\n",
        "#                    lista[i] = lista[j];\n",
        "#                    lista[j] = temp;\n",
        "#                }\n",
        "#            }\n",
        "#        }\n",
        "#        System.out.println(\"Lista ordenada\");\n",
        "#        for(int a=0; a<lista.length; a++){\n",
        "#                    System.out.print(lista[a] + \" \");\n",
        "#        }\n",
        "#    }\n",
        "# }"
      ],
      "execution_count": null,
      "outputs": []
    },
    {
      "cell_type": "code",
      "metadata": {
        "id": "KlSaNBJTTJ0Z",
        "outputId": "1bea985d-6ed5-4690-bbc2-60a227848ad1",
        "colab": {
          "base_uri": "https://localhost:8080/"
        }
      },
      "source": [
        "# Solución\n",
        "print(\"Lista inicial: \")\n",
        "lista = [27,35,82,74,390,-40,-500,-320,0,48,91]\n",
        "print(lista)\n",
        "i=0\n",
        "for i in range(0,len(lista)-1):\n",
        "    for j in range(i+1,len(lista)):\n",
        "        if lista[i]>lista[j]:\n",
        "            temp = lista[i]\n",
        "            lista[i] = lista[j]\n",
        "            lista[j] = temp\n",
        "print(\"Lista ordena:\")\n",
        "print(lista)"
      ],
      "execution_count": 54,
      "outputs": [
        {
          "output_type": "stream",
          "name": "stdout",
          "text": [
            "Lista inicial: \n",
            "[27, 35, 82, 74, 390, -40, -500, -320, 0, 48, 91]\n",
            "Lista ordena:\n",
            "[-500, -320, -40, 0, 27, 35, 48, 74, 82, 91, 390]\n"
          ]
        }
      ]
    },
    {
      "cell_type": "markdown",
      "source": [
        "    USANDO EL COMANDO 'while'"
      ],
      "metadata": {
        "id": "Ui3qBNbFtK5-"
      }
    },
    {
      "cell_type": "code",
      "metadata": {
        "id": "-b8M5t7-TJ0Z"
      },
      "source": [
        "# while\n",
        "# Permite ejecutar un conjunto de acciones mientras se cumpla una condición"
      ],
      "execution_count": null,
      "outputs": []
    },
    {
      "cell_type": "code",
      "metadata": {
        "scrolled": true,
        "id": "KZk7HP3UTJ0a",
        "outputId": "38451a41-9dc4-454e-9048-570a75a9b204",
        "colab": {
          "base_uri": "https://localhost:8080/"
        }
      },
      "source": [
        "# Ejemplo:\n",
        "      # Mostrar los números del 32 al 53\n",
        "\n",
        "# Indicamos el número inicial\n",
        "numero = 32\n",
        "fin = 53\n",
        "\n",
        "# Imprimimos un mensaje\n",
        "print(\"Los números mostrados son: \")\n",
        "\n",
        "# Hacemos un --> while <---\n",
        "while numero <= fin:\n",
        "    print(numero)\n",
        "    numero+=1\n"
      ],
      "execution_count": 55,
      "outputs": [
        {
          "output_type": "stream",
          "name": "stdout",
          "text": [
            "Los números mostrados son: \n",
            "32\n",
            "33\n",
            "34\n",
            "35\n",
            "36\n",
            "37\n",
            "38\n",
            "39\n",
            "40\n",
            "41\n",
            "42\n",
            "43\n",
            "44\n",
            "45\n",
            "46\n",
            "47\n",
            "48\n",
            "49\n",
            "50\n",
            "51\n",
            "52\n",
            "53\n"
          ]
        }
      ]
    }
  ]
}